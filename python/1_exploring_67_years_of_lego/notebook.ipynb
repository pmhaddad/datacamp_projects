{
 "cells": [
  {
   "cell_type": "markdown",
   "metadata": {
    "dc": {
     "key": "1d0b086e6c"
    },
    "deletable": false,
    "editable": false,
    "run_control": {
     "frozen": true
    },
    "tags": [
     "context"
    ]
   },
   "source": [
    "## 1. Introduction\n",
    "<p>Everyone loves Lego (unless you ever stepped on one). Did you know by the way that \"Lego\" was derived from the Danish phrase leg godt, which means \"play well\"? Unless you speak Danish, probably not. </p>\n",
    "<p>In this project, we will analyze a fascinating dataset on every single lego block that has ever been built!</p>\n",
    "<p><img src=\"https://s3.amazonaws.com/assets.datacamp.com/production/project_10/datasets/lego-bricks.jpeg\" alt=\"lego\"></p>"
   ]
  },
  {
   "cell_type": "markdown",
   "metadata": {
    "dc": {
     "key": "044b2cef41"
    },
    "deletable": false,
    "editable": false,
    "run_control": {
     "frozen": true
    },
    "tags": [
     "context"
    ]
   },
   "source": [
    "## 2. Reading Data\n",
    "<p>A comprehensive database of lego blocks is provided by <a href=\"https://rebrickable.com/downloads/\">Rebrickable</a>. The data is available as csv files and the schema is shown below.</p>\n",
    "<p><img src=\"https://s3.amazonaws.com/assets.datacamp.com/production/project_10/datasets/downloads_schema.png\" alt=\"schema\"></p>\n",
    "<p>Let us start by reading in the colors data to get a sense of the diversity of lego sets!</p>"
   ]
  },
  {
   "cell_type": "code",
   "execution_count": 1,
   "metadata": {
    "dc": {
     "key": "044b2cef41"
    },
    "scrolled": false,
    "tags": [
     "sample_code"
    ]
   },
   "outputs": [
    {
     "data": {
      "text/html": [
       "<div>\n",
       "<style scoped>\n",
       "    .dataframe tbody tr th:only-of-type {\n",
       "        vertical-align: middle;\n",
       "    }\n",
       "\n",
       "    .dataframe tbody tr th {\n",
       "        vertical-align: top;\n",
       "    }\n",
       "\n",
       "    .dataframe thead th {\n",
       "        text-align: right;\n",
       "    }\n",
       "</style>\n",
       "<table border=\"1\" class=\"dataframe\">\n",
       "  <thead>\n",
       "    <tr style=\"text-align: right;\">\n",
       "      <th></th>\n",
       "      <th>name</th>\n",
       "      <th>rgb</th>\n",
       "      <th>is_trans</th>\n",
       "    </tr>\n",
       "    <tr>\n",
       "      <th>id</th>\n",
       "      <th></th>\n",
       "      <th></th>\n",
       "      <th></th>\n",
       "    </tr>\n",
       "  </thead>\n",
       "  <tbody>\n",
       "    <tr>\n",
       "      <th>-1</th>\n",
       "      <td>Unknown</td>\n",
       "      <td>0033B2</td>\n",
       "      <td>f</td>\n",
       "    </tr>\n",
       "    <tr>\n",
       "      <th>0</th>\n",
       "      <td>Black</td>\n",
       "      <td>05131D</td>\n",
       "      <td>f</td>\n",
       "    </tr>\n",
       "    <tr>\n",
       "      <th>1</th>\n",
       "      <td>Blue</td>\n",
       "      <td>0055BF</td>\n",
       "      <td>f</td>\n",
       "    </tr>\n",
       "    <tr>\n",
       "      <th>2</th>\n",
       "      <td>Green</td>\n",
       "      <td>237841</td>\n",
       "      <td>f</td>\n",
       "    </tr>\n",
       "    <tr>\n",
       "      <th>3</th>\n",
       "      <td>Dark Turquoise</td>\n",
       "      <td>008F9B</td>\n",
       "      <td>f</td>\n",
       "    </tr>\n",
       "    <tr>\n",
       "      <th>4</th>\n",
       "      <td>Red</td>\n",
       "      <td>C91A09</td>\n",
       "      <td>f</td>\n",
       "    </tr>\n",
       "    <tr>\n",
       "      <th>5</th>\n",
       "      <td>Dark Pink</td>\n",
       "      <td>C870A0</td>\n",
       "      <td>f</td>\n",
       "    </tr>\n",
       "    <tr>\n",
       "      <th>6</th>\n",
       "      <td>Brown</td>\n",
       "      <td>583927</td>\n",
       "      <td>f</td>\n",
       "    </tr>\n",
       "    <tr>\n",
       "      <th>7</th>\n",
       "      <td>Light Gray</td>\n",
       "      <td>9BA19D</td>\n",
       "      <td>f</td>\n",
       "    </tr>\n",
       "    <tr>\n",
       "      <th>8</th>\n",
       "      <td>Dark Gray</td>\n",
       "      <td>6D6E5C</td>\n",
       "      <td>f</td>\n",
       "    </tr>\n",
       "  </tbody>\n",
       "</table>\n",
       "</div>"
      ],
      "text/plain": [
       "              name     rgb is_trans\n",
       "id                                 \n",
       "-1         Unknown  0033B2        f\n",
       " 0           Black  05131D        f\n",
       " 1            Blue  0055BF        f\n",
       " 2           Green  237841        f\n",
       " 3  Dark Turquoise  008F9B        f\n",
       " 4             Red  C91A09        f\n",
       " 5       Dark Pink  C870A0        f\n",
       " 6           Brown  583927        f\n",
       " 7      Light Gray  9BA19D        f\n",
       " 8       Dark Gray  6D6E5C        f"
      ]
     },
     "execution_count": 1,
     "metadata": {},
     "output_type": "execute_result"
    }
   ],
   "source": [
    "# Import modules\n",
    "import numpy as np\n",
    "import pandas as pd\n",
    "import matplotlib.pyplot as plt\n",
    "\n",
    "# Ingest data\n",
    "colors = pd.read_csv('datasets/colors.csv', index_col='id')\n",
    "\n",
    "# Display data\n",
    "colors.head(10)"
   ]
  },
  {
   "cell_type": "markdown",
   "metadata": {},
   "source": [
    "So, it seems we have 3 columns on the `colors` dataset. Let's **evaluate the data structure**, to get more details:"
   ]
  },
  {
   "cell_type": "code",
   "execution_count": 2,
   "metadata": {
    "scrolled": true
   },
   "outputs": [
    {
     "name": "stdout",
     "output_type": "stream",
     "text": [
      "<class 'pandas.core.frame.DataFrame'>\n",
      "Int64Index: 135 entries, -1 to 9999\n",
      "Data columns (total 3 columns):\n",
      "name        135 non-null object\n",
      "rgb         135 non-null object\n",
      "is_trans    135 non-null object\n",
      "dtypes: object(3)\n",
      "memory usage: 4.2+ KB\n"
     ]
    }
   ],
   "source": [
    "colors.info()"
   ]
  },
  {
   "cell_type": "markdown",
   "metadata": {},
   "source": [
    "It appears that data is **well-structured** and **we don't have problems with missing data**. Furthermore, data types are compatible with each field they represent. So, let's move on to an exploratory analysis!"
   ]
  },
  {
   "cell_type": "markdown",
   "metadata": {
    "dc": {
     "key": "15c1e2ce38"
    },
    "deletable": false,
    "editable": false,
    "run_control": {
     "frozen": true
    },
    "tags": [
     "context"
    ]
   },
   "source": [
    "## 3. Exploring Colors\n",
    "<p>Now that we have read the <code>colors</code> data, we can start exploring it! Let us start by understanding the number of colors available.</p>"
   ]
  },
  {
   "cell_type": "markdown",
   "metadata": {},
   "source": [
    "**_How many distinct colors have LEGO used over the years?_**"
   ]
  },
  {
   "cell_type": "code",
   "execution_count": 3,
   "metadata": {
    "dc": {
     "key": "15c1e2ce38"
    },
    "tags": [
     "sample_code"
    ]
   },
   "outputs": [
    {
     "data": {
      "text/plain": [
       "135"
      ]
     },
     "execution_count": 3,
     "metadata": {},
     "output_type": "execute_result"
    }
   ],
   "source": [
    "num_colors = colors['name'].nunique()\n",
    "num_colors"
   ]
  },
  {
   "cell_type": "markdown",
   "metadata": {},
   "source": [
    "So, LEGO has used 135 colors. **_Are they really unique colors?_**"
   ]
  },
  {
   "cell_type": "code",
   "execution_count": 4,
   "metadata": {},
   "outputs": [
    {
     "data": {
      "text/plain": [
       "name        135\n",
       "rgb         124\n",
       "is_trans      2\n",
       "dtype: int64"
      ]
     },
     "execution_count": 4,
     "metadata": {},
     "output_type": "execute_result"
    }
   ],
   "source": [
    "colors.nunique()"
   ]
  },
  {
   "cell_type": "markdown",
   "metadata": {},
   "source": [
    "_Only in part_. Although there are 135 unique color names, there are only 124 unique RGB color codes. **_Which are the repeated_** `rgb` **_color codes?_**"
   ]
  },
  {
   "cell_type": "code",
   "execution_count": 5,
   "metadata": {},
   "outputs": [
    {
     "data": {
      "text/html": [
       "<div>\n",
       "<style scoped>\n",
       "    .dataframe tbody tr th:only-of-type {\n",
       "        vertical-align: middle;\n",
       "    }\n",
       "\n",
       "    .dataframe tbody tr th {\n",
       "        vertical-align: top;\n",
       "    }\n",
       "\n",
       "    .dataframe thead th {\n",
       "        text-align: right;\n",
       "    }\n",
       "</style>\n",
       "<table border=\"1\" class=\"dataframe\">\n",
       "  <thead>\n",
       "    <tr style=\"text-align: right;\">\n",
       "      <th></th>\n",
       "      <th>name</th>\n",
       "      <th>rgb</th>\n",
       "      <th>is_trans</th>\n",
       "    </tr>\n",
       "    <tr>\n",
       "      <th>id</th>\n",
       "      <th></th>\n",
       "      <th></th>\n",
       "      <th></th>\n",
       "    </tr>\n",
       "  </thead>\n",
       "  <tbody>\n",
       "    <tr>\n",
       "      <th>133</th>\n",
       "      <td>Speckle Black-Gold</td>\n",
       "      <td>000000</td>\n",
       "      <td>f</td>\n",
       "    </tr>\n",
       "    <tr>\n",
       "      <th>132</th>\n",
       "      <td>Speckle Black-Silver</td>\n",
       "      <td>000000</td>\n",
       "      <td>f</td>\n",
       "    </tr>\n",
       "    <tr>\n",
       "      <th>75</th>\n",
       "      <td>Speckle Black-Copper</td>\n",
       "      <td>000000</td>\n",
       "      <td>f</td>\n",
       "    </tr>\n",
       "    <tr>\n",
       "      <th>0</th>\n",
       "      <td>Black</td>\n",
       "      <td>05131D</td>\n",
       "      <td>f</td>\n",
       "    </tr>\n",
       "    <tr>\n",
       "      <th>9999</th>\n",
       "      <td>[No Color]</td>\n",
       "      <td>05131D</td>\n",
       "      <td>f</td>\n",
       "    </tr>\n",
       "    <tr>\n",
       "      <th>40</th>\n",
       "      <td>Trans-Black</td>\n",
       "      <td>635F52</td>\n",
       "      <td>t</td>\n",
       "    </tr>\n",
       "    <tr>\n",
       "      <th>32</th>\n",
       "      <td>Trans-Black IR Lens</td>\n",
       "      <td>635F52</td>\n",
       "      <td>t</td>\n",
       "    </tr>\n",
       "    <tr>\n",
       "      <th>129</th>\n",
       "      <td>Glitter Trans-Purple</td>\n",
       "      <td>A5A5CB</td>\n",
       "      <td>t</td>\n",
       "    </tr>\n",
       "    <tr>\n",
       "      <th>52</th>\n",
       "      <td>Trans-Purple</td>\n",
       "      <td>A5A5CB</td>\n",
       "      <td>t</td>\n",
       "    </tr>\n",
       "    <tr>\n",
       "      <th>36</th>\n",
       "      <td>Trans-Red</td>\n",
       "      <td>C91A09</td>\n",
       "      <td>t</td>\n",
       "    </tr>\n",
       "    <tr>\n",
       "      <th>4</th>\n",
       "      <td>Red</td>\n",
       "      <td>C91A09</td>\n",
       "      <td>f</td>\n",
       "    </tr>\n",
       "    <tr>\n",
       "      <th>35</th>\n",
       "      <td>Trans-Bright Green</td>\n",
       "      <td>D9E4A7</td>\n",
       "      <td>t</td>\n",
       "    </tr>\n",
       "    <tr>\n",
       "      <th>120</th>\n",
       "      <td>Light Lime</td>\n",
       "      <td>D9E4A7</td>\n",
       "      <td>f</td>\n",
       "    </tr>\n",
       "    <tr>\n",
       "      <th>45</th>\n",
       "      <td>Trans-Dark Pink</td>\n",
       "      <td>DF6695</td>\n",
       "      <td>t</td>\n",
       "    </tr>\n",
       "    <tr>\n",
       "      <th>114</th>\n",
       "      <td>Glitter Trans-Dark Pink</td>\n",
       "      <td>DF6695</td>\n",
       "      <td>t</td>\n",
       "    </tr>\n",
       "    <tr>\n",
       "      <th>230</th>\n",
       "      <td>Trans-Pink</td>\n",
       "      <td>E4ADC8</td>\n",
       "      <td>t</td>\n",
       "    </tr>\n",
       "    <tr>\n",
       "      <th>29</th>\n",
       "      <td>Bright Pink</td>\n",
       "      <td>E4ADC8</td>\n",
       "      <td>f</td>\n",
       "    </tr>\n",
       "    <tr>\n",
       "      <th>79</th>\n",
       "      <td>Milky White</td>\n",
       "      <td>FFFFFF</td>\n",
       "      <td>f</td>\n",
       "    </tr>\n",
       "    <tr>\n",
       "      <th>117</th>\n",
       "      <td>Glitter Trans-Clear</td>\n",
       "      <td>FFFFFF</td>\n",
       "      <td>t</td>\n",
       "    </tr>\n",
       "    <tr>\n",
       "      <th>15</th>\n",
       "      <td>White</td>\n",
       "      <td>FFFFFF</td>\n",
       "      <td>f</td>\n",
       "    </tr>\n",
       "  </tbody>\n",
       "</table>\n",
       "</div>"
      ],
      "text/plain": [
       "                         name     rgb is_trans\n",
       "id                                            \n",
       "133        Speckle Black-Gold  000000        f\n",
       "132      Speckle Black-Silver  000000        f\n",
       "75       Speckle Black-Copper  000000        f\n",
       "0                       Black  05131D        f\n",
       "9999               [No Color]  05131D        f\n",
       "40                Trans-Black  635F52        t\n",
       "32        Trans-Black IR Lens  635F52        t\n",
       "129      Glitter Trans-Purple  A5A5CB        t\n",
       "52               Trans-Purple  A5A5CB        t\n",
       "36                  Trans-Red  C91A09        t\n",
       "4                         Red  C91A09        f\n",
       "35         Trans-Bright Green  D9E4A7        t\n",
       "120                Light Lime  D9E4A7        f\n",
       "45            Trans-Dark Pink  DF6695        t\n",
       "114   Glitter Trans-Dark Pink  DF6695        t\n",
       "230                Trans-Pink  E4ADC8        t\n",
       "29                Bright Pink  E4ADC8        f\n",
       "79                Milky White  FFFFFF        f\n",
       "117       Glitter Trans-Clear  FFFFFF        t\n",
       "15                      White  FFFFFF        f"
      ]
     },
     "execution_count": 5,
     "metadata": {},
     "output_type": "execute_result"
    }
   ],
   "source": [
    "# Return all groups of colors with the same 'rgb' value\n",
    "colors[colors.duplicated('rgb', keep=False)].sort_values('rgb')"
   ]
  },
  {
   "cell_type": "markdown",
   "metadata": {},
   "source": [
    "_There is a lot of repeated_ `rgb`_codes_. It's possible to see that these codes usually represent variations of related colors, such as colors' _Glitter_ or _Transparent_ versions.<br/>\n",
    "\n",
    "**_How do the used colors look like?_** Since we have their hexadecimal codes in the `rgb` field, we can see them!"
   ]
  },
  {
   "cell_type": "code",
   "execution_count": 6,
   "metadata": {},
   "outputs": [
    {
     "data": {
      "image/png": "[encoded data removed]",
      "text/plain": [
       "<Figure size 720x360 with 1 Axes>"
      ]
     },
     "metadata": {
      "needs_background": "light"
     },
     "output_type": "display_data"
    }
   ],
   "source": [
    "# Create (x,y) coordinates to plot colors\n",
    "x_coord = list(range(31)) * 4\n",
    "y_coord_t = [[x]*31 for x in range(1, 5)]\n",
    "y_coord = [item for sublist in y_coord_t for item in sublist]\n",
    "\n",
    "# Create a list of RGB Hex codes \n",
    "lego_colors = \"#\" + colors['rgb']\n",
    "lego_colors = lego_colors.drop_duplicates().sort_values().to_list()\n",
    "\n",
    "plt.rcParams['figure.figsize'] = [10, 5]\n",
    "plt.scatter(x_coord, y_coord, s=400, marker='h', color=lego_colors, edgecolors='black')\n",
    "plt.axis('Off')\n",
    "plt.show()"
   ]
  },
  {
   "cell_type": "markdown",
   "metadata": {
    "dc": {
     "key": "a5723ae5c2"
    },
    "deletable": false,
    "editable": false,
    "run_control": {
     "frozen": true
    },
    "tags": [
     "context"
    ]
   },
   "source": [
    "## 4. Transparent Colors in Lego Sets\n",
    "<p>The <code>colors</code> data has a column named <code>is_trans</code> that indicates whether a color is transparent or not. It would be interesting to explore the distribution of transparent vs. non-transparent colors.</p>"
   ]
  },
  {
   "cell_type": "code",
   "execution_count": 7,
   "metadata": {
    "dc": {
     "key": "a5723ae5c2"
    },
    "tags": [
     "sample_code"
    ]
   },
   "outputs": [
    {
     "data": {
      "text/html": [
       "<div>\n",
       "<style scoped>\n",
       "    .dataframe tbody tr th:only-of-type {\n",
       "        vertical-align: middle;\n",
       "    }\n",
       "\n",
       "    .dataframe tbody tr th {\n",
       "        vertical-align: top;\n",
       "    }\n",
       "\n",
       "    .dataframe thead th {\n",
       "        text-align: right;\n",
       "    }\n",
       "</style>\n",
       "<table border=\"1\" class=\"dataframe\">\n",
       "  <thead>\n",
       "    <tr style=\"text-align: right;\">\n",
       "      <th></th>\n",
       "      <th>name</th>\n",
       "    </tr>\n",
       "    <tr>\n",
       "      <th>is_trans</th>\n",
       "      <th></th>\n",
       "    </tr>\n",
       "  </thead>\n",
       "  <tbody>\n",
       "    <tr>\n",
       "      <th>f</th>\n",
       "      <td>107</td>\n",
       "    </tr>\n",
       "    <tr>\n",
       "      <th>t</th>\n",
       "      <td>28</td>\n",
       "    </tr>\n",
       "  </tbody>\n",
       "</table>\n",
       "</div>"
      ],
      "text/plain": [
       "          name\n",
       "is_trans      \n",
       "f          107\n",
       "t           28"
      ]
     },
     "execution_count": 7,
     "metadata": {},
     "output_type": "execute_result"
    }
   ],
   "source": [
    "# Distribution of colors based on transparency\n",
    "colors_summary = colors.groupby('is_trans')['name'].count().to_frame()\n",
    "colors_summary"
   ]
  },
  {
   "cell_type": "markdown",
   "metadata": {},
   "source": [
    "So, there are 28 transparent colors, accounting for around **21% of all 135 colors** listed."
   ]
  },
  {
   "cell_type": "markdown",
   "metadata": {
    "dc": {
     "key": "c9d0e58653"
    },
    "deletable": false,
    "editable": false,
    "run_control": {
     "frozen": true
    },
    "tags": [
     "context"
    ]
   },
   "source": [
    "## 5. Explore Lego Sets\n",
    "<p>Another interesting dataset available in this database is the <code>sets</code> data. It contains a comprehensive list of sets over the years and the number of parts that each of these sets contained. </p>\n",
    "<p><img src=\"https://imgur.com/1k4PoXs.png\" alt=\"sets_data\"></p>\n",
    "<p>Let us use this data to explore how the average number of parts in Lego sets has varied over the years.</p>"
   ]
  },
  {
   "cell_type": "code",
   "execution_count": 8,
   "metadata": {
    "dc": {
     "key": "c9d0e58653"
    },
    "tags": [
     "sample_code"
    ]
   },
   "outputs": [
    {
     "data": {
      "text/html": [
       "<div>\n",
       "<style scoped>\n",
       "    .dataframe tbody tr th:only-of-type {\n",
       "        vertical-align: middle;\n",
       "    }\n",
       "\n",
       "    .dataframe tbody tr th {\n",
       "        vertical-align: top;\n",
       "    }\n",
       "\n",
       "    .dataframe thead th {\n",
       "        text-align: right;\n",
       "    }\n",
       "</style>\n",
       "<table border=\"1\" class=\"dataframe\">\n",
       "  <thead>\n",
       "    <tr style=\"text-align: right;\">\n",
       "      <th></th>\n",
       "      <th>name</th>\n",
       "      <th>year</th>\n",
       "      <th>theme_id</th>\n",
       "      <th>num_parts</th>\n",
       "    </tr>\n",
       "    <tr>\n",
       "      <th>set_num</th>\n",
       "      <th></th>\n",
       "      <th></th>\n",
       "      <th></th>\n",
       "      <th></th>\n",
       "    </tr>\n",
       "  </thead>\n",
       "  <tbody>\n",
       "    <tr>\n",
       "      <th>00-1</th>\n",
       "      <td>Weetabix Castle</td>\n",
       "      <td>1970</td>\n",
       "      <td>414</td>\n",
       "      <td>471</td>\n",
       "    </tr>\n",
       "    <tr>\n",
       "      <th>0011-2</th>\n",
       "      <td>Town Mini-Figures</td>\n",
       "      <td>1978</td>\n",
       "      <td>84</td>\n",
       "      <td>12</td>\n",
       "    </tr>\n",
       "    <tr>\n",
       "      <th>0011-3</th>\n",
       "      <td>Castle 2 for 1 Bonus Offer</td>\n",
       "      <td>1987</td>\n",
       "      <td>199</td>\n",
       "      <td>2</td>\n",
       "    </tr>\n",
       "    <tr>\n",
       "      <th>0012-1</th>\n",
       "      <td>Space Mini-Figures</td>\n",
       "      <td>1979</td>\n",
       "      <td>143</td>\n",
       "      <td>12</td>\n",
       "    </tr>\n",
       "    <tr>\n",
       "      <th>0013-1</th>\n",
       "      <td>Space Mini-Figures</td>\n",
       "      <td>1979</td>\n",
       "      <td>143</td>\n",
       "      <td>12</td>\n",
       "    </tr>\n",
       "  </tbody>\n",
       "</table>\n",
       "</div>"
      ],
      "text/plain": [
       "                               name  year  theme_id  num_parts\n",
       "set_num                                                       \n",
       "00-1                Weetabix Castle  1970       414        471\n",
       "0011-2            Town Mini-Figures  1978        84         12\n",
       "0011-3   Castle 2 for 1 Bonus Offer  1987       199          2\n",
       "0012-1           Space Mini-Figures  1979       143         12\n",
       "0013-1           Space Mini-Figures  1979       143         12"
      ]
     },
     "execution_count": 8,
     "metadata": {},
     "output_type": "execute_result"
    }
   ],
   "source": [
    "# Ingest data\n",
    "sets = pd.read_csv('datasets/sets.csv', index_col=\"set_num\")\n",
    "\n",
    "# Display data\n",
    "sets.head()"
   ]
  },
  {
   "cell_type": "markdown",
   "metadata": {},
   "source": [
    "Let's start by profiling the **data structure** of `sets`:"
   ]
  },
  {
   "cell_type": "code",
   "execution_count": 9,
   "metadata": {},
   "outputs": [
    {
     "name": "stdout",
     "output_type": "stream",
     "text": [
      "<class 'pandas.core.frame.DataFrame'>\n",
      "Index: 11866 entries, 00-1 to wwgp1-1\n",
      "Data columns (total 4 columns):\n",
      "name         11866 non-null object\n",
      "year         11866 non-null int64\n",
      "theme_id     11866 non-null int64\n",
      "num_parts    11866 non-null int64\n",
      "dtypes: int64(3), object(1)\n",
      "memory usage: 463.5+ KB\n"
     ]
    }
   ],
   "source": [
    "sets.info()"
   ]
  },
  {
   "cell_type": "markdown",
   "metadata": {},
   "source": [
    "Data seems **well-structured**: there aren't `null` values and the data type for each variable is compatible with the recorded information.<br/>\n",
    "\n",
    "Let's move on to profile the **dataset scope** for each variable... Keeping in mind that we have 11,866 records in the dataset, **_how are distinct values distributed within each variable?_**"
   ]
  },
  {
   "cell_type": "code",
   "execution_count": 10,
   "metadata": {},
   "outputs": [
    {
     "data": {
      "text/plain": [
       "name         10543\n",
       "year            66\n",
       "theme_id       585\n",
       "num_parts     1117\n",
       "dtype: int64"
      ]
     },
     "execution_count": 10,
     "metadata": {},
     "output_type": "execute_result"
    }
   ],
   "source": [
    "sets.nunique()"
   ]
  },
  {
   "cell_type": "markdown",
   "metadata": {},
   "source": [
    "Other than the `set_num` (used as the `DataFrame` index), **all variables present some repeated values**. Let's dig a little deeper on each variable, starting with `name`: **_how is the frequency distribution of set names?_**"
   ]
  },
  {
   "cell_type": "code",
   "execution_count": 11,
   "metadata": {
    "scrolled": false
   },
   "outputs": [
    {
     "name": "stdout",
     "output_type": "stream",
     "text": [
      "Basic Building Set                                   55\n",
      "Universal Building Set                               32\n",
      "Helicopter                                           23\n",
      "Basic Set                                            23\n",
      "Fire Station                                         14\n",
      "Tow Truck                                            14\n",
      "Fire Truck                                           13\n",
      "Tractor                                              12\n",
      "                                                     ..\n",
      "Green Lizard                                          1\n",
      "Freeze Ray Frenzy                                     1\n",
      "Kabaya Basic 4-Pack                                   1\n",
      "Forklift Transporter                                  1\n",
      "Furry Creatures                                       1\n",
      "City of Stiix                                         1\n",
      "King Pharaoh the Third                                1\n",
      "Electronic Control Unit (Forward/Backward - Stop)     1\n",
      "Name: name, Length: 10543, dtype: int64\n"
     ]
    }
   ],
   "source": [
    "name_counts = sets['name'].value_counts()\n",
    "with pd.option_context('display.max_rows', 16):\n",
    "    print(name_counts)"
   ]
  },
  {
   "cell_type": "markdown",
   "metadata": {},
   "source": [
    "The most common set name was **Basic Building Set**, which appears **55 times** in the dataset. **_How common are sets with repeated names?_**"
   ]
  },
  {
   "cell_type": "code",
   "execution_count": 12,
   "metadata": {},
   "outputs": [
    {
     "data": {
      "image/png": "[encoded data removed]",
      "text/plain": [
       "<Figure size 720x360 with 1 Axes>"
      ]
     },
     "metadata": {
      "needs_background": "light"
     },
     "output_type": "display_data"
    }
   ],
   "source": [
    "name_counts.plot(kind='hist', bins=30, edgecolor='black')\n",
    "plt.xlim((0, 60))\n",
    "plt.yscale('log')\n",
    "plt.xlabel('number of homonymous sets', labelpad=10, fontsize='large')\n",
    "plt.ylabel('frequency', labelpad=15, fontsize='large')\n",
    "plt.box(False)\n",
    "plt.show()"
   ]
  },
  {
   "cell_type": "markdown",
   "metadata": {},
   "source": [
    "It is clear that the **vast majority of sets present unique (or very few) repeated names**. Names that are **shared by more than 10 sets are outliers**!<br/>\n",
    "\n",
    "Let's proceed by profiling the `year` values to make sure our time series is complete:"
   ]
  },
  {
   "cell_type": "code",
   "execution_count": 13,
   "metadata": {
    "scrolled": false
   },
   "outputs": [
    {
     "name": "stdout",
     "output_type": "stream",
     "text": [
      "[1950 1953 1954 1955 1956 1957 1958 1959 1960 1961 1962 1963 1964 1965\n",
      " 1966 1967 1968 1969 1970 1971 1972 1973 1974 1975 1976 1977 1978 1979\n",
      " 1980 1981 1982 1983 1984 1985 1986 1987 1988 1989 1990 1991 1992 1993\n",
      " 1994 1995 1996 1997 1998 1999 2000 2001 2002 2003 2004 2005 2006 2007\n",
      " 2008 2009 2010 2011 2012 2013 2014 2015 2016 2017]\n",
      "number of years: 66\n"
     ]
    }
   ],
   "source": [
    "# Display all distinct values for the 'year' variable\n",
    "years = np.sort(sets['year'].unique())\n",
    "print(years, \"number of years: \" + str(len(years)), sep='\\n')"
   ]
  },
  {
   "cell_type": "markdown",
   "metadata": {},
   "source": [
    "_We have a problem here!_ We have 66 distinct `year` values, but the dataset covers 68 years. Values representing `1951` and `1952` are missing! We'll have to keep that in mind in future analyses!<br/>\n",
    "\n",
    "For now, let's move on to the next variable, `theme_id`. **_How is the frequency distribution of theme IDs?_**"
   ]
  },
  {
   "cell_type": "code",
   "execution_count": 14,
   "metadata": {},
   "outputs": [
    {
     "name": "stdout",
     "output_type": "stream",
     "text": [
      "504    260\n",
      "501    246\n",
      "371    240\n",
      "220    216\n",
      "494    206\n",
      "435    192\n",
      "443    185\n",
      "1      175\n",
      "22     150\n",
      "453    140\n",
      "      ... \n",
      "515      1\n",
      "607      1\n",
      "444      1\n",
      "523      1\n",
      "608      1\n",
      "531      1\n",
      "595      1\n",
      "150      1\n",
      "25       1\n",
      "44       1\n",
      "Name: theme_id, Length: 585, dtype: int64\n"
     ]
    }
   ],
   "source": [
    "# Display the counts for each 'theme_id' value\n",
    "with pd.option_context('display.max_rows', 20):\n",
    "    print(sets['theme_id'].value_counts())"
   ]
  },
  {
   "cell_type": "markdown",
   "metadata": {},
   "source": [
    "Some of the LEGO themes have **as many as 250 different sets**! **_Are there sets that share the same_** `theme_id` **_and the same_** `name`**_? Why is that?_**"
   ]
  },
  {
   "cell_type": "code",
   "execution_count": 15,
   "metadata": {},
   "outputs": [
    {
     "data": {
      "text/html": [
       "<div>\n",
       "<style scoped>\n",
       "    .dataframe tbody tr th:only-of-type {\n",
       "        vertical-align: middle;\n",
       "    }\n",
       "\n",
       "    .dataframe tbody tr th {\n",
       "        vertical-align: top;\n",
       "    }\n",
       "\n",
       "    .dataframe thead th {\n",
       "        text-align: right;\n",
       "    }\n",
       "</style>\n",
       "<table border=\"1\" class=\"dataframe\">\n",
       "  <thead>\n",
       "    <tr style=\"text-align: right;\">\n",
       "      <th></th>\n",
       "      <th>name</th>\n",
       "      <th>year</th>\n",
       "      <th>theme_id</th>\n",
       "      <th>num_parts</th>\n",
       "    </tr>\n",
       "    <tr>\n",
       "      <th>set_num</th>\n",
       "      <th></th>\n",
       "      <th></th>\n",
       "      <th></th>\n",
       "      <th></th>\n",
       "    </tr>\n",
       "  </thead>\n",
       "  <tbody>\n",
       "    <tr>\n",
       "      <th>1221-2</th>\n",
       "      <td>1 x 1 Bricks</td>\n",
       "      <td>1955</td>\n",
       "      <td>371</td>\n",
       "      <td>160</td>\n",
       "    </tr>\n",
       "    <tr>\n",
       "      <th>222-2</th>\n",
       "      <td>1 x 1 Bricks</td>\n",
       "      <td>1958</td>\n",
       "      <td>371</td>\n",
       "      <td>240</td>\n",
       "    </tr>\n",
       "    <tr>\n",
       "      <th>1222-2</th>\n",
       "      <td>1 x 1 Round Bricks</td>\n",
       "      <td>1955</td>\n",
       "      <td>371</td>\n",
       "      <td>200</td>\n",
       "    </tr>\n",
       "    <tr>\n",
       "      <th>223-2</th>\n",
       "      <td>1 x 1 Round Bricks</td>\n",
       "      <td>1958</td>\n",
       "      <td>371</td>\n",
       "      <td>160</td>\n",
       "    </tr>\n",
       "    <tr>\n",
       "      <th>1220-2</th>\n",
       "      <td>1 x 2 Bricks</td>\n",
       "      <td>1955</td>\n",
       "      <td>371</td>\n",
       "      <td>104</td>\n",
       "    </tr>\n",
       "    <tr>\n",
       "      <th>221-2</th>\n",
       "      <td>1 x 2 Bricks</td>\n",
       "      <td>1958</td>\n",
       "      <td>371</td>\n",
       "      <td>156</td>\n",
       "    </tr>\n",
       "    <tr>\n",
       "      <th>421-1</th>\n",
       "      <td>1 x 2 Bricks</td>\n",
       "      <td>1966</td>\n",
       "      <td>371</td>\n",
       "      <td>176</td>\n",
       "    </tr>\n",
       "    <tr>\n",
       "      <th>1224A-1</th>\n",
       "      <td>1 x 6 and 1 x 8 Bricks</td>\n",
       "      <td>1955</td>\n",
       "      <td>371</td>\n",
       "      <td>36</td>\n",
       "    </tr>\n",
       "    <tr>\n",
       "      <th>225-1</th>\n",
       "      <td>1 x 6 and 1 x 8 Bricks</td>\n",
       "      <td>1958</td>\n",
       "      <td>371</td>\n",
       "      <td>54</td>\n",
       "    </tr>\n",
       "    <tr>\n",
       "      <th>1223-2</th>\n",
       "      <td>2 x 2 &amp; 2 x 4 Curved Bricks</td>\n",
       "      <td>1955</td>\n",
       "      <td>371</td>\n",
       "      <td>14</td>\n",
       "    </tr>\n",
       "  </tbody>\n",
       "</table>\n",
       "</div>"
      ],
      "text/plain": [
       "                                name  year  theme_id  num_parts\n",
       "set_num                                                        \n",
       "1221-2                  1 x 1 Bricks  1955       371        160\n",
       "222-2                   1 x 1 Bricks  1958       371        240\n",
       "1222-2            1 x 1 Round Bricks  1955       371        200\n",
       "223-2             1 x 1 Round Bricks  1958       371        160\n",
       "1220-2                  1 x 2 Bricks  1955       371        104\n",
       "221-2                   1 x 2 Bricks  1958       371        156\n",
       "421-1                   1 x 2 Bricks  1966       371        176\n",
       "1224A-1       1 x 6 and 1 x 8 Bricks  1955       371         36\n",
       "225-1         1 x 6 and 1 x 8 Bricks  1958       371         54\n",
       "1223-2   2 x 2 & 2 x 4 Curved Bricks  1955       371         14"
      ]
     },
     "execution_count": 15,
     "metadata": {},
     "output_type": "execute_result"
    }
   ],
   "source": [
    "# Display groups of sets that share the same 'name' and 'theme_id'\n",
    "dup_sets = sets[sets.duplicated(subset=['name', 'theme_id'], keep=False)]\n",
    "dup_sets.sort_values(['name', 'year']).head(10)"
   ]
  },
  {
   "cell_type": "markdown",
   "metadata": {},
   "source": [
    "_Yes, there are sets with the same name and theme!_ Apparently, **sets can share the same** `name` **and** `theme`, but in that case these sets were usually **released in different years**.<br/>\n",
    "\n",
    "Let's move on to the number of parts in each LEGO set, `num_parts`:"
   ]
  },
  {
   "cell_type": "code",
   "execution_count": 16,
   "metadata": {},
   "outputs": [
    {
     "data": {
      "text/plain": [
       "count    11866.000000\n",
       "mean       165.144783\n",
       "std        336.382317\n",
       "min         -1.000000\n",
       "25%         10.250000\n",
       "50%         46.000000\n",
       "75%        174.000000\n",
       "max       5922.000000\n",
       "Name: num_parts, dtype: float64"
      ]
     },
     "execution_count": 16,
     "metadata": {},
     "output_type": "execute_result"
    }
   ],
   "source": [
    "sets['num_parts'].describe()"
   ]
  },
  {
   "cell_type": "markdown",
   "metadata": {},
   "source": [
    "Again, _we have something odd here_. We have sets with `-1` parts, which is a value that doesn't make much sense. Let's see more information about these records, and also if there are sets with `0` parts, which would also be odd:"
   ]
  },
  {
   "cell_type": "code",
   "execution_count": 17,
   "metadata": {},
   "outputs": [
    {
     "data": {
      "text/html": [
       "<div>\n",
       "<style scoped>\n",
       "    .dataframe tbody tr th:only-of-type {\n",
       "        vertical-align: middle;\n",
       "    }\n",
       "\n",
       "    .dataframe tbody tr th {\n",
       "        vertical-align: top;\n",
       "    }\n",
       "\n",
       "    .dataframe thead th {\n",
       "        text-align: right;\n",
       "    }\n",
       "</style>\n",
       "<table border=\"1\" class=\"dataframe\">\n",
       "  <thead>\n",
       "    <tr style=\"text-align: right;\">\n",
       "      <th></th>\n",
       "      <th>name</th>\n",
       "      <th>year</th>\n",
       "      <th>theme_id</th>\n",
       "      <th>num_parts</th>\n",
       "    </tr>\n",
       "    <tr>\n",
       "      <th>set_num</th>\n",
       "      <th></th>\n",
       "      <th></th>\n",
       "      <th></th>\n",
       "      <th></th>\n",
       "    </tr>\n",
       "  </thead>\n",
       "  <tbody>\n",
       "    <tr>\n",
       "      <th>Vancouver-1</th>\n",
       "      <td>LEGO Store Grand Opening Exclusive Set, Oakrid...</td>\n",
       "      <td>2012</td>\n",
       "      <td>408</td>\n",
       "      <td>-1</td>\n",
       "    </tr>\n",
       "    <tr>\n",
       "      <th>240-1</th>\n",
       "      <td>Wooden Storage Box Large, Empty</td>\n",
       "      <td>1967</td>\n",
       "      <td>383</td>\n",
       "      <td>-1</td>\n",
       "    </tr>\n",
       "    <tr>\n",
       "      <th>66392-1</th>\n",
       "      <td>Duplo Cars Super Pack 3 in 1 (5816, 5817, 5818)</td>\n",
       "      <td>2012</td>\n",
       "      <td>506</td>\n",
       "      <td>-1</td>\n",
       "    </tr>\n",
       "    <tr>\n",
       "      <th>10623-1</th>\n",
       "      <td>Basic Bricks – Large</td>\n",
       "      <td>2015</td>\n",
       "      <td>505</td>\n",
       "      <td>0</td>\n",
       "    </tr>\n",
       "    <tr>\n",
       "      <th>851687-1</th>\n",
       "      <td>Robin Key Chain</td>\n",
       "      <td>2007</td>\n",
       "      <td>503</td>\n",
       "      <td>0</td>\n",
       "    </tr>\n",
       "    <tr>\n",
       "      <th>851659-1</th>\n",
       "      <td>Boba Fett Keyring</td>\n",
       "      <td>2008</td>\n",
       "      <td>503</td>\n",
       "      <td>0</td>\n",
       "    </tr>\n",
       "    <tr>\n",
       "      <th>851502-1</th>\n",
       "      <td>Ice Brick Tray - Yellow</td>\n",
       "      <td>2007</td>\n",
       "      <td>501</td>\n",
       "      <td>0</td>\n",
       "    </tr>\n",
       "    <tr>\n",
       "      <th>851464-1</th>\n",
       "      <td>Chewbacca Key Chain</td>\n",
       "      <td>2007</td>\n",
       "      <td>503</td>\n",
       "      <td>0</td>\n",
       "    </tr>\n",
       "    <tr>\n",
       "      <th>851463-1</th>\n",
       "      <td>Clone Trooper Key Chain</td>\n",
       "      <td>2007</td>\n",
       "      <td>503</td>\n",
       "      <td>0</td>\n",
       "    </tr>\n",
       "    <tr>\n",
       "      <th>851441</th>\n",
       "      <td>Headgear, Mask, Soft Foam, Bionicle Toa Hordik...</td>\n",
       "      <td>2004</td>\n",
       "      <td>501</td>\n",
       "      <td>0</td>\n",
       "    </tr>\n",
       "    <tr>\n",
       "      <th>851417-1</th>\n",
       "      <td>LEGO Friends Wall Stickers</td>\n",
       "      <td>2015</td>\n",
       "      <td>501</td>\n",
       "      <td>0</td>\n",
       "    </tr>\n",
       "    <tr>\n",
       "      <th>851400-1</th>\n",
       "      <td>Upscaled Mug – Red</td>\n",
       "      <td>2015</td>\n",
       "      <td>501</td>\n",
       "      <td>0</td>\n",
       "    </tr>\n",
       "    <tr>\n",
       "      <th>851395-1</th>\n",
       "      <td>Robot Key Chain</td>\n",
       "      <td>2015</td>\n",
       "      <td>503</td>\n",
       "      <td>0</td>\n",
       "    </tr>\n",
       "    <tr>\n",
       "      <th>851394-1</th>\n",
       "      <td>Gingerbread Man Key Chain</td>\n",
       "      <td>2015</td>\n",
       "      <td>503</td>\n",
       "      <td>0</td>\n",
       "    </tr>\n",
       "    <tr>\n",
       "      <th>851393-1</th>\n",
       "      <td>Mermaid Key Chain</td>\n",
       "      <td>2015</td>\n",
       "      <td>503</td>\n",
       "      <td>0</td>\n",
       "    </tr>\n",
       "    <tr>\n",
       "      <th>851369-1</th>\n",
       "      <td>Icebite Key Chain</td>\n",
       "      <td>2015</td>\n",
       "      <td>503</td>\n",
       "      <td>0</td>\n",
       "    </tr>\n",
       "    <tr>\n",
       "      <th>851368-1</th>\n",
       "      <td>Laval Key Chain</td>\n",
       "      <td>2015</td>\n",
       "      <td>503</td>\n",
       "      <td>0</td>\n",
       "    </tr>\n",
       "    <tr>\n",
       "      <th>851353-1</th>\n",
       "      <td>Anacondrai Kapau Key Chain</td>\n",
       "      <td>2015</td>\n",
       "      <td>503</td>\n",
       "      <td>0</td>\n",
       "    </tr>\n",
       "    <tr>\n",
       "      <th>851352-1</th>\n",
       "      <td>Titanium Ninja Zane Key Chain</td>\n",
       "      <td>2015</td>\n",
       "      <td>503</td>\n",
       "      <td>0</td>\n",
       "    </tr>\n",
       "    <tr>\n",
       "      <th>851351-1</th>\n",
       "      <td>Ninja Kai Key Chain</td>\n",
       "      <td>2015</td>\n",
       "      <td>503</td>\n",
       "      <td>0</td>\n",
       "    </tr>\n",
       "    <tr>\n",
       "      <th>851343-1</th>\n",
       "      <td>Drinking Bottle</td>\n",
       "      <td>2015</td>\n",
       "      <td>501</td>\n",
       "      <td>0</td>\n",
       "    </tr>\n",
       "    <tr>\n",
       "      <th>851341-1</th>\n",
       "      <td>LEGO® Elves Playmat</td>\n",
       "      <td>2015</td>\n",
       "      <td>501</td>\n",
       "      <td>0</td>\n",
       "    </tr>\n",
       "    <tr>\n",
       "      <th>851339-1</th>\n",
       "      <td>Ninja Bandana</td>\n",
       "      <td>2015</td>\n",
       "      <td>501</td>\n",
       "      <td>0</td>\n",
       "    </tr>\n",
       "    <tr>\n",
       "      <th>851338-1</th>\n",
       "      <td>Ninja Belt &amp; Throwing Star</td>\n",
       "      <td>2015</td>\n",
       "      <td>501</td>\n",
       "      <td>0</td>\n",
       "    </tr>\n",
       "    <tr>\n",
       "      <th>851336-1</th>\n",
       "      <td>Ninja Fork Weapon</td>\n",
       "      <td>2015</td>\n",
       "      <td>501</td>\n",
       "      <td>0</td>\n",
       "    </tr>\n",
       "    <tr>\n",
       "      <th>851335-1</th>\n",
       "      <td>Ninja Sword</td>\n",
       "      <td>2015</td>\n",
       "      <td>501</td>\n",
       "      <td>0</td>\n",
       "    </tr>\n",
       "    <tr>\n",
       "      <th>851325-1</th>\n",
       "      <td>Jungle Playmat</td>\n",
       "      <td>2014</td>\n",
       "      <td>501</td>\n",
       "      <td>0</td>\n",
       "    </tr>\n",
       "    <tr>\n",
       "      <th>851320-1</th>\n",
       "      <td>LEGO® Minifigure Notebooks</td>\n",
       "      <td>2014</td>\n",
       "      <td>501</td>\n",
       "      <td>0</td>\n",
       "    </tr>\n",
       "    <tr>\n",
       "      <th>851318-1</th>\n",
       "      <td>Sir Fangar Claw &amp; Shield</td>\n",
       "      <td>2014</td>\n",
       "      <td>501</td>\n",
       "      <td>0</td>\n",
       "    </tr>\n",
       "    <tr>\n",
       "      <th>851938-1</th>\n",
       "      <td>Princess Leia Key Chain</td>\n",
       "      <td>2007</td>\n",
       "      <td>503</td>\n",
       "      <td>0</td>\n",
       "    </tr>\n",
       "    <tr>\n",
       "      <th>...</th>\n",
       "      <td>...</td>\n",
       "      <td>...</td>\n",
       "      <td>...</td>\n",
       "      <td>...</td>\n",
       "    </tr>\n",
       "    <tr>\n",
       "      <th>5004196-1</th>\n",
       "      <td>LEGO® Star Wars™: Choose Your Side! Ultimate S...</td>\n",
       "      <td>2014</td>\n",
       "      <td>501</td>\n",
       "      <td>0</td>\n",
       "    </tr>\n",
       "    <tr>\n",
       "      <th>5004237-1</th>\n",
       "      <td>THE LEGO® MOVIE™: Blu-ray Combo Pack (Blu-ray ...</td>\n",
       "      <td>2014</td>\n",
       "      <td>501</td>\n",
       "      <td>0</td>\n",
       "    </tr>\n",
       "    <tr>\n",
       "      <th>5004605-1</th>\n",
       "      <td>Boba Fett Minifigure Watch</td>\n",
       "      <td>2015</td>\n",
       "      <td>501</td>\n",
       "      <td>0</td>\n",
       "    </tr>\n",
       "    <tr>\n",
       "      <th>5004604-1</th>\n",
       "      <td>Classic Minifigure Link Watch</td>\n",
       "      <td>2015</td>\n",
       "      <td>501</td>\n",
       "      <td>0</td>\n",
       "    </tr>\n",
       "    <tr>\n",
       "      <th>5004603-1</th>\n",
       "      <td>Superman Minifigure Link Watch</td>\n",
       "      <td>2015</td>\n",
       "      <td>501</td>\n",
       "      <td>0</td>\n",
       "    </tr>\n",
       "    <tr>\n",
       "      <th>5004602-1</th>\n",
       "      <td>Batman Minifigure Link Watch</td>\n",
       "      <td>2015</td>\n",
       "      <td>501</td>\n",
       "      <td>0</td>\n",
       "    </tr>\n",
       "    <tr>\n",
       "      <th>5004601-1</th>\n",
       "      <td>Wonder Woman Watch</td>\n",
       "      <td>2015</td>\n",
       "      <td>501</td>\n",
       "      <td>0</td>\n",
       "    </tr>\n",
       "    <tr>\n",
       "      <th>5004600-1</th>\n",
       "      <td>Wonder Woman Minifigure Alarm</td>\n",
       "      <td>2015</td>\n",
       "      <td>501</td>\n",
       "      <td>0</td>\n",
       "    </tr>\n",
       "    <tr>\n",
       "      <th>5004363-1</th>\n",
       "      <td>Brick USB Flash Drive</td>\n",
       "      <td>2015</td>\n",
       "      <td>501</td>\n",
       "      <td>0</td>\n",
       "    </tr>\n",
       "    <tr>\n",
       "      <th>5004284-1</th>\n",
       "      <td>THE LEGO® MOVIE™ Queasy Kitty Key Light</td>\n",
       "      <td>2014</td>\n",
       "      <td>503</td>\n",
       "      <td>0</td>\n",
       "    </tr>\n",
       "    <tr>\n",
       "      <th>5004283-1</th>\n",
       "      <td>Bizniz Kitty Key Light</td>\n",
       "      <td>2014</td>\n",
       "      <td>503</td>\n",
       "      <td>0</td>\n",
       "    </tr>\n",
       "    <tr>\n",
       "      <th>5004282-1</th>\n",
       "      <td>THE LEGO MOVIE Astro Kitty Key Light</td>\n",
       "      <td>2014</td>\n",
       "      <td>503</td>\n",
       "      <td>0</td>\n",
       "    </tr>\n",
       "    <tr>\n",
       "      <th>5004281-1</th>\n",
       "      <td>Angry Kitty Key Light</td>\n",
       "      <td>2014</td>\n",
       "      <td>503</td>\n",
       "      <td>0</td>\n",
       "    </tr>\n",
       "    <tr>\n",
       "      <th>5004280-1</th>\n",
       "      <td>LEGO 2 stud Blue Storage Brick</td>\n",
       "      <td>2014</td>\n",
       "      <td>501</td>\n",
       "      <td>0</td>\n",
       "    </tr>\n",
       "    <tr>\n",
       "      <th>5004607-1</th>\n",
       "      <td>Darth Vader Watch</td>\n",
       "      <td>2015</td>\n",
       "      <td>501</td>\n",
       "      <td>0</td>\n",
       "    </tr>\n",
       "    <tr>\n",
       "      <th>5004279-1</th>\n",
       "      <td>LEGO® 2-stud Red Storage Brick</td>\n",
       "      <td>2015</td>\n",
       "      <td>501</td>\n",
       "      <td>0</td>\n",
       "    </tr>\n",
       "    <tr>\n",
       "      <th>5004273-1</th>\n",
       "      <td>LEGO Friends Storage Brick 2 Bright Purple</td>\n",
       "      <td>2014</td>\n",
       "      <td>501</td>\n",
       "      <td>0</td>\n",
       "    </tr>\n",
       "    <tr>\n",
       "      <th>5004268-1</th>\n",
       "      <td>LEGO 1 stud Blue Storage Brick</td>\n",
       "      <td>2014</td>\n",
       "      <td>501</td>\n",
       "      <td>0</td>\n",
       "    </tr>\n",
       "    <tr>\n",
       "      <th>5004267-1</th>\n",
       "      <td>LEGO 1 stud Red Storage Brick</td>\n",
       "      <td>2014</td>\n",
       "      <td>501</td>\n",
       "      <td>0</td>\n",
       "    </tr>\n",
       "    <tr>\n",
       "      <th>5004266-1</th>\n",
       "      <td>LEGO Mini Box (Yellow)</td>\n",
       "      <td>2014</td>\n",
       "      <td>501</td>\n",
       "      <td>0</td>\n",
       "    </tr>\n",
       "    <tr>\n",
       "      <th>5004264-1</th>\n",
       "      <td>LEGO 1x2 Brick Key Light (Red)</td>\n",
       "      <td>2014</td>\n",
       "      <td>503</td>\n",
       "      <td>0</td>\n",
       "    </tr>\n",
       "    <tr>\n",
       "      <th>5004263-1</th>\n",
       "      <td>LEGO 1x2 Brick Key Light (Green)</td>\n",
       "      <td>2014</td>\n",
       "      <td>503</td>\n",
       "      <td>0</td>\n",
       "    </tr>\n",
       "    <tr>\n",
       "      <th>5004262-1</th>\n",
       "      <td>LEGO 1x2 Brick Key Light (Blue)</td>\n",
       "      <td>2014</td>\n",
       "      <td>503</td>\n",
       "      <td>0</td>\n",
       "    </tr>\n",
       "    <tr>\n",
       "      <th>5004252-1</th>\n",
       "      <td>LEGO® Friends Stephanie Key Light</td>\n",
       "      <td>2014</td>\n",
       "      <td>503</td>\n",
       "      <td>0</td>\n",
       "    </tr>\n",
       "    <tr>\n",
       "      <th>5004251-1</th>\n",
       "      <td>LEGO® Friends Olivia Key Light</td>\n",
       "      <td>2014</td>\n",
       "      <td>503</td>\n",
       "      <td>0</td>\n",
       "    </tr>\n",
       "    <tr>\n",
       "      <th>5004250-1</th>\n",
       "      <td>LEGO® Friends Mia Key Light</td>\n",
       "      <td>2014</td>\n",
       "      <td>503</td>\n",
       "      <td>0</td>\n",
       "    </tr>\n",
       "    <tr>\n",
       "      <th>5004249-1</th>\n",
       "      <td>LEGO® Friends Emma Key Light</td>\n",
       "      <td>2014</td>\n",
       "      <td>503</td>\n",
       "      <td>0</td>\n",
       "    </tr>\n",
       "    <tr>\n",
       "      <th>5004248-1</th>\n",
       "      <td>LEGO® Friends Andrea Key Light</td>\n",
       "      <td>2014</td>\n",
       "      <td>503</td>\n",
       "      <td>0</td>\n",
       "    </tr>\n",
       "    <tr>\n",
       "      <th>5004274-1</th>\n",
       "      <td>LEGO Friends Storage Brick 1 - Medium Lilac</td>\n",
       "      <td>2014</td>\n",
       "      <td>501</td>\n",
       "      <td>0</td>\n",
       "    </tr>\n",
       "    <tr>\n",
       "      <th>W991526-1</th>\n",
       "      <td>Homeschool Introduction to Simple and Motorize...</td>\n",
       "      <td>2009</td>\n",
       "      <td>529</td>\n",
       "      <td>0</td>\n",
       "    </tr>\n",
       "  </tbody>\n",
       "</table>\n",
       "<p>471 rows × 4 columns</p>\n",
       "</div>"
      ],
      "text/plain": [
       "                                                          name  year  \\\n",
       "set_num                                                                \n",
       "Vancouver-1  LEGO Store Grand Opening Exclusive Set, Oakrid...  2012   \n",
       "240-1                          Wooden Storage Box Large, Empty  1967   \n",
       "66392-1        Duplo Cars Super Pack 3 in 1 (5816, 5817, 5818)  2012   \n",
       "10623-1                                   Basic Bricks – Large  2015   \n",
       "851687-1                                       Robin Key Chain  2007   \n",
       "851659-1                                     Boba Fett Keyring  2008   \n",
       "851502-1                               Ice Brick Tray - Yellow  2007   \n",
       "851464-1                                   Chewbacca Key Chain  2007   \n",
       "851463-1                               Clone Trooper Key Chain  2007   \n",
       "851441       Headgear, Mask, Soft Foam, Bionicle Toa Hordik...  2004   \n",
       "851417-1                            LEGO Friends Wall Stickers  2015   \n",
       "851400-1                                    Upscaled Mug – Red  2015   \n",
       "851395-1                                       Robot Key Chain  2015   \n",
       "851394-1                             Gingerbread Man Key Chain  2015   \n",
       "851393-1                                     Mermaid Key Chain  2015   \n",
       "851369-1                                     Icebite Key Chain  2015   \n",
       "851368-1                                       Laval Key Chain  2015   \n",
       "851353-1                            Anacondrai Kapau Key Chain  2015   \n",
       "851352-1                         Titanium Ninja Zane Key Chain  2015   \n",
       "851351-1                                   Ninja Kai Key Chain  2015   \n",
       "851343-1                                       Drinking Bottle  2015   \n",
       "851341-1                                   LEGO® Elves Playmat  2015   \n",
       "851339-1                                         Ninja Bandana  2015   \n",
       "851338-1                            Ninja Belt & Throwing Star  2015   \n",
       "851336-1                                     Ninja Fork Weapon  2015   \n",
       "851335-1                                           Ninja Sword  2015   \n",
       "851325-1                                        Jungle Playmat  2014   \n",
       "851320-1                            LEGO® Minifigure Notebooks  2014   \n",
       "851318-1                              Sir Fangar Claw & Shield  2014   \n",
       "851938-1                               Princess Leia Key Chain  2007   \n",
       "...                                                        ...   ...   \n",
       "5004196-1    LEGO® Star Wars™: Choose Your Side! Ultimate S...  2014   \n",
       "5004237-1    THE LEGO® MOVIE™: Blu-ray Combo Pack (Blu-ray ...  2014   \n",
       "5004605-1                           Boba Fett Minifigure Watch  2015   \n",
       "5004604-1                        Classic Minifigure Link Watch  2015   \n",
       "5004603-1                       Superman Minifigure Link Watch  2015   \n",
       "5004602-1                         Batman Minifigure Link Watch  2015   \n",
       "5004601-1                                   Wonder Woman Watch  2015   \n",
       "5004600-1                        Wonder Woman Minifigure Alarm  2015   \n",
       "5004363-1                                Brick USB Flash Drive  2015   \n",
       "5004284-1              THE LEGO® MOVIE™ Queasy Kitty Key Light  2014   \n",
       "5004283-1                               Bizniz Kitty Key Light  2014   \n",
       "5004282-1                 THE LEGO MOVIE Astro Kitty Key Light  2014   \n",
       "5004281-1                                Angry Kitty Key Light  2014   \n",
       "5004280-1                       LEGO 2 stud Blue Storage Brick  2014   \n",
       "5004607-1                                    Darth Vader Watch  2015   \n",
       "5004279-1                       LEGO® 2-stud Red Storage Brick  2015   \n",
       "5004273-1           LEGO Friends Storage Brick 2 Bright Purple  2014   \n",
       "5004268-1                       LEGO 1 stud Blue Storage Brick  2014   \n",
       "5004267-1                        LEGO 1 stud Red Storage Brick  2014   \n",
       "5004266-1                               LEGO Mini Box (Yellow)  2014   \n",
       "5004264-1                       LEGO 1x2 Brick Key Light (Red)  2014   \n",
       "5004263-1                     LEGO 1x2 Brick Key Light (Green)  2014   \n",
       "5004262-1                      LEGO 1x2 Brick Key Light (Blue)  2014   \n",
       "5004252-1                    LEGO® Friends Stephanie Key Light  2014   \n",
       "5004251-1                       LEGO® Friends Olivia Key Light  2014   \n",
       "5004250-1                          LEGO® Friends Mia Key Light  2014   \n",
       "5004249-1                         LEGO® Friends Emma Key Light  2014   \n",
       "5004248-1                       LEGO® Friends Andrea Key Light  2014   \n",
       "5004274-1          LEGO Friends Storage Brick 1 - Medium Lilac  2014   \n",
       "W991526-1    Homeschool Introduction to Simple and Motorize...  2009   \n",
       "\n",
       "             theme_id  num_parts  \n",
       "set_num                           \n",
       "Vancouver-1       408         -1  \n",
       "240-1             383         -1  \n",
       "66392-1           506         -1  \n",
       "10623-1           505          0  \n",
       "851687-1          503          0  \n",
       "851659-1          503          0  \n",
       "851502-1          501          0  \n",
       "851464-1          503          0  \n",
       "851463-1          503          0  \n",
       "851441            501          0  \n",
       "851417-1          501          0  \n",
       "851400-1          501          0  \n",
       "851395-1          503          0  \n",
       "851394-1          503          0  \n",
       "851393-1          503          0  \n",
       "851369-1          503          0  \n",
       "851368-1          503          0  \n",
       "851353-1          503          0  \n",
       "851352-1          503          0  \n",
       "851351-1          503          0  \n",
       "851343-1          501          0  \n",
       "851341-1          501          0  \n",
       "851339-1          501          0  \n",
       "851338-1          501          0  \n",
       "851336-1          501          0  \n",
       "851335-1          501          0  \n",
       "851325-1          501          0  \n",
       "851320-1          501          0  \n",
       "851318-1          501          0  \n",
       "851938-1          503          0  \n",
       "...               ...        ...  \n",
       "5004196-1         501          0  \n",
       "5004237-1         501          0  \n",
       "5004605-1         501          0  \n",
       "5004604-1         501          0  \n",
       "5004603-1         501          0  \n",
       "5004602-1         501          0  \n",
       "5004601-1         501          0  \n",
       "5004600-1         501          0  \n",
       "5004363-1         501          0  \n",
       "5004284-1         503          0  \n",
       "5004283-1         503          0  \n",
       "5004282-1         503          0  \n",
       "5004281-1         503          0  \n",
       "5004280-1         501          0  \n",
       "5004607-1         501          0  \n",
       "5004279-1         501          0  \n",
       "5004273-1         501          0  \n",
       "5004268-1         501          0  \n",
       "5004267-1         501          0  \n",
       "5004266-1         501          0  \n",
       "5004264-1         503          0  \n",
       "5004263-1         503          0  \n",
       "5004262-1         503          0  \n",
       "5004252-1         503          0  \n",
       "5004251-1         503          0  \n",
       "5004250-1         503          0  \n",
       "5004249-1         503          0  \n",
       "5004248-1         503          0  \n",
       "5004274-1         501          0  \n",
       "W991526-1         529          0  \n",
       "\n",
       "[471 rows x 4 columns]"
      ]
     },
     "execution_count": 17,
     "metadata": {},
     "output_type": "execute_result"
    }
   ],
   "source": [
    "sets[sets['num_parts'].isin([-1, 0])].sort_values('num_parts')"
   ]
  },
  {
   "cell_type": "markdown",
   "metadata": {},
   "source": [
    "**Only 3 values have** `-1` **parts**... Most likely, this value represents `null` values in the dataset. Surprisingly, **468 sets have 0 parts**! **_What do these values mean?_** Well, looking at the set names, it appears that sets with `num_parts = 0` represents **other types of LEGO merchandise**, such as _watches_, _flashlights_, _video game cartridges_, etc. Again, this is something unexpected... We'll probably have to keep it in mind in future analyses.<br/>\n",
    "\n",
    "So far, we were profiling the `sets` dataset to evaluate its characteristics and value... But what about insights? What does this dataset tell us about LEGO sets? Let's answer some basic questions: **_Has LEGO increased the number of sets it releases each year?_**"
   ]
  },
  {
   "cell_type": "code",
   "execution_count": 18,
   "metadata": {},
   "outputs": [
    {
     "data": {
      "image/png": "[encoded data removed]",
      "text/plain": [
       "<Figure size 720x360 with 1 Axes>"
      ]
     },
     "metadata": {
      "needs_background": "light"
     },
     "output_type": "display_data"
    }
   ],
   "source": [
    "# Create a summary of the number of sets released each year: 'num_sets'\n",
    "num_sets = sets.groupby('year')['name'].count()\n",
    "num_sets.plot()\n",
    "plt.xlim((1948, 2018))\n",
    "plt.ylim((0, 720))\n",
    "plt.xlabel('year', labelpad=10, fontsize='large')\n",
    "plt.ylabel('number of sets', labelpad=15, fontsize='large')\n",
    "plt.box(False)\n",
    "plt.show()"
   ]
  },
  {
   "cell_type": "markdown",
   "metadata": {},
   "source": [
    "_Yes, it has!_ Over the years, **the number of LEGO sets has been increasing**, especially after the mid-1990's. What about the sets themselves... **_Are LEGO sets getting bigger and more complex?_**"
   ]
  },
  {
   "cell_type": "code",
   "execution_count": 19,
   "metadata": {},
   "outputs": [
    {
     "data": {
      "text/html": [
       "<div>\n",
       "<style scoped>\n",
       "    .dataframe tbody tr th:only-of-type {\n",
       "        vertical-align: middle;\n",
       "    }\n",
       "\n",
       "    .dataframe tbody tr th {\n",
       "        vertical-align: top;\n",
       "    }\n",
       "\n",
       "    .dataframe thead th {\n",
       "        text-align: right;\n",
       "    }\n",
       "</style>\n",
       "<table border=\"1\" class=\"dataframe\">\n",
       "  <thead>\n",
       "    <tr style=\"text-align: right;\">\n",
       "      <th></th>\n",
       "      <th>num_parts</th>\n",
       "    </tr>\n",
       "    <tr>\n",
       "      <th>year</th>\n",
       "      <th></th>\n",
       "    </tr>\n",
       "  </thead>\n",
       "  <tbody>\n",
       "    <tr>\n",
       "      <th>1950</th>\n",
       "      <td>10.14</td>\n",
       "    </tr>\n",
       "    <tr>\n",
       "      <th>1953</th>\n",
       "      <td>16.50</td>\n",
       "    </tr>\n",
       "    <tr>\n",
       "      <th>1954</th>\n",
       "      <td>12.36</td>\n",
       "    </tr>\n",
       "    <tr>\n",
       "      <th>1955</th>\n",
       "      <td>36.86</td>\n",
       "    </tr>\n",
       "    <tr>\n",
       "      <th>1956</th>\n",
       "      <td>18.50</td>\n",
       "    </tr>\n",
       "  </tbody>\n",
       "</table>\n",
       "</div>"
      ],
      "text/plain": [
       "      num_parts\n",
       "year           \n",
       "1950      10.14\n",
       "1953      16.50\n",
       "1954      12.36\n",
       "1955      36.86\n",
       "1956      18.50"
      ]
     },
     "execution_count": 19,
     "metadata": {},
     "output_type": "execute_result"
    }
   ],
   "source": [
    "# Create a summary of average number of parts by year: `parts_by_year`\n",
    "parts_by_year = sets.groupby('year')['num_parts'].mean().round(2).to_frame()\n",
    "parts_by_year.head()"
   ]
  },
  {
   "cell_type": "code",
   "execution_count": 20,
   "metadata": {
    "scrolled": true
   },
   "outputs": [
    {
     "data": {
      "text/html": [
       "<div>\n",
       "<style scoped>\n",
       "    .dataframe tbody tr th:only-of-type {\n",
       "        vertical-align: middle;\n",
       "    }\n",
       "\n",
       "    .dataframe tbody tr th {\n",
       "        vertical-align: top;\n",
       "    }\n",
       "\n",
       "    .dataframe thead th {\n",
       "        text-align: right;\n",
       "    }\n",
       "</style>\n",
       "<table border=\"1\" class=\"dataframe\">\n",
       "  <thead>\n",
       "    <tr style=\"text-align: right;\">\n",
       "      <th></th>\n",
       "      <th>num_parts</th>\n",
       "    </tr>\n",
       "    <tr>\n",
       "      <th>year</th>\n",
       "      <th></th>\n",
       "    </tr>\n",
       "  </thead>\n",
       "  <tbody>\n",
       "    <tr>\n",
       "      <th>2013</th>\n",
       "      <td>181.36</td>\n",
       "    </tr>\n",
       "    <tr>\n",
       "      <th>2014</th>\n",
       "      <td>169.32</td>\n",
       "    </tr>\n",
       "    <tr>\n",
       "      <th>2015</th>\n",
       "      <td>200.22</td>\n",
       "    </tr>\n",
       "    <tr>\n",
       "      <th>2016</th>\n",
       "      <td>248.95</td>\n",
       "    </tr>\n",
       "    <tr>\n",
       "      <th>2017</th>\n",
       "      <td>300.12</td>\n",
       "    </tr>\n",
       "  </tbody>\n",
       "</table>\n",
       "</div>"
      ],
      "text/plain": [
       "      num_parts\n",
       "year           \n",
       "2013     181.36\n",
       "2014     169.32\n",
       "2015     200.22\n",
       "2016     248.95\n",
       "2017     300.12"
      ]
     },
     "execution_count": 20,
     "metadata": {},
     "output_type": "execute_result"
    }
   ],
   "source": [
    "parts_by_year.tail()"
   ]
  },
  {
   "cell_type": "code",
   "execution_count": 21,
   "metadata": {
    "dc": {
     "key": "c9d0e58653"
    },
    "tags": [
     "sample_code"
    ]
   },
   "outputs": [
    {
     "data": {
      "image/png": "[encoded data removed]",
      "text/plain": [
       "<Figure size 720x360 with 1 Axes>"
      ]
     },
     "metadata": {
      "needs_background": "light"
     },
     "output_type": "display_data"
    }
   ],
   "source": [
    "# Plot trends in average number of parts by year\n",
    "parts_by_year.plot(legend=False, color='red')\n",
    "plt.xlim((1948, 2018))\n",
    "plt.ylim((0, 310))\n",
    "plt.xlabel('year', labelpad=10, fontsize = 'large')\n",
    "plt.ylabel('mean number of LEGO parts', labelpad=15, fontsize = 'large')\n",
    "plt.box(False)\n",
    "plt.show()"
   ]
  },
  {
   "cell_type": "markdown",
   "metadata": {},
   "source": [
    "_Yes, LEGO sets have been getting bigger!_ There is an overall trend of **increasing the number os pieces** in LEGO sets each year, although the increase is not constant over time... But wait! Remember that a lot of sets are **non-traditional** LEGO sets... They represent other types of merchandise, such as _watches_ and _games_. If we remove sets with `-1` or `0` parts, **_is the size pattern the same?_**"
   ]
  },
  {
   "cell_type": "code",
   "execution_count": 22,
   "metadata": {},
   "outputs": [
    {
     "data": {
      "image/png": "[encoded data removed]",
      "text/plain": [
       "<Figure size 720x360 with 1 Axes>"
      ]
     },
     "metadata": {
      "needs_background": "light"
     },
     "output_type": "display_data"
    }
   ],
   "source": [
    "# Plot trends in average number of parts by year (not considering sets with 'num_parts' in (-1, 0))\n",
    "sets_filtered = sets[sets['num_parts'] != 0]\n",
    "parts_by_year_filtered = sets_filtered.groupby('year')['num_parts'].mean().round(2)\n",
    "parts_by_year_filtered.plot(legend=False, color='orange')\n",
    "plt.xlim((1948, 2018))\n",
    "plt.ylim((0, 310))\n",
    "plt.xlabel('year', labelpad=10, fontsize='large')\n",
    "plt.ylabel('mean number of LEGO parts', labelpad=15, fontsize='large')\n",
    "plt.box(False)\n",
    "plt.show()"
   ]
  },
  {
   "cell_type": "markdown",
   "metadata": {},
   "source": [
    "_Yes, the pattern is very similar!_ What about these sets with `0` parts? **_How was their production over time?_**"
   ]
  },
  {
   "cell_type": "code",
   "execution_count": 23,
   "metadata": {},
   "outputs": [
    {
     "data": {
      "image/png": "[encoded data removed]",
      "text/plain": [
       "<Figure size 720x360 with 1 Axes>"
      ]
     },
     "metadata": {
      "needs_background": "light"
     },
     "output_type": "display_data"
    }
   ],
   "source": [
    "# Plot trends in the number of sets with 'num_parts' == 0\n",
    "other_merch = sets[sets['num_parts'] == 0]\n",
    "other_merch_by_year = other_merch.groupby('year')['num_parts'].count()\n",
    "other_merch_by_year.plot(legend=False, color='purple')\n",
    "plt.xlim((1948, 2018))\n",
    "plt.xlabel('year', labelpad=10, fontsize='large')\n",
    "plt.ylabel('mean number of LEGO parts', labelpad=15, fontsize='large')\n",
    "plt.box(False)\n",
    "plt.show()"
   ]
  },
  {
   "cell_type": "markdown",
   "metadata": {},
   "source": [
    "_That's interesting!_ It appears that these non-traditional LEGO sets started to become consistently **more common after the year** `2000`, with a huge peak in `2014`.<br/>\n",
    "\n",
    "So, we have already seem that LEGO sets became more varied over the years, and also more complex. **_But what about LEGO themes?_**"
   ]
  },
  {
   "cell_type": "markdown",
   "metadata": {
    "dc": {
     "key": "266a3f390c"
    },
    "deletable": false,
    "editable": false,
    "run_control": {
     "frozen": true
    },
    "tags": [
     "context"
    ]
   },
   "source": [
    "## 6. Lego Themes Over Years\n",
    "<p>Lego blocks ship under multiple <a href=\"https://shop.lego.com/en-US/Themes\">themes</a>. Let us try to get a sense of how the number of themes shipped has varied over the years.</p>"
   ]
  },
  {
   "cell_type": "code",
   "execution_count": 24,
   "metadata": {
    "dc": {
     "key": "266a3f390c"
    },
    "tags": [
     "sample_code"
    ]
   },
   "outputs": [
    {
     "data": {
      "text/html": [
       "<div>\n",
       "<style scoped>\n",
       "    .dataframe tbody tr th:only-of-type {\n",
       "        vertical-align: middle;\n",
       "    }\n",
       "\n",
       "    .dataframe tbody tr th {\n",
       "        vertical-align: top;\n",
       "    }\n",
       "\n",
       "    .dataframe thead th {\n",
       "        text-align: right;\n",
       "    }\n",
       "</style>\n",
       "<table border=\"1\" class=\"dataframe\">\n",
       "  <thead>\n",
       "    <tr style=\"text-align: right;\">\n",
       "      <th></th>\n",
       "      <th>theme_id</th>\n",
       "    </tr>\n",
       "    <tr>\n",
       "      <th>year</th>\n",
       "      <th></th>\n",
       "    </tr>\n",
       "  </thead>\n",
       "  <tbody>\n",
       "    <tr>\n",
       "      <th>1950</th>\n",
       "      <td>2</td>\n",
       "    </tr>\n",
       "    <tr>\n",
       "      <th>1953</th>\n",
       "      <td>1</td>\n",
       "    </tr>\n",
       "    <tr>\n",
       "      <th>1954</th>\n",
       "      <td>2</td>\n",
       "    </tr>\n",
       "    <tr>\n",
       "      <th>1955</th>\n",
       "      <td>4</td>\n",
       "    </tr>\n",
       "    <tr>\n",
       "      <th>1956</th>\n",
       "      <td>3</td>\n",
       "    </tr>\n",
       "    <tr>\n",
       "      <th>1957</th>\n",
       "      <td>4</td>\n",
       "    </tr>\n",
       "    <tr>\n",
       "      <th>1958</th>\n",
       "      <td>3</td>\n",
       "    </tr>\n",
       "    <tr>\n",
       "      <th>1959</th>\n",
       "      <td>3</td>\n",
       "    </tr>\n",
       "  </tbody>\n",
       "</table>\n",
       "</div>"
      ],
      "text/plain": [
       "      theme_id\n",
       "year          \n",
       "1950         2\n",
       "1953         1\n",
       "1954         2\n",
       "1955         4\n",
       "1956         3\n",
       "1957         4\n",
       "1958         3\n",
       "1959         3"
      ]
     },
     "execution_count": 24,
     "metadata": {},
     "output_type": "execute_result"
    }
   ],
   "source": [
    "# themes_by_year: Number of themes shipped by year\n",
    "themes_by_year = sets.groupby('year')['theme_id'].nunique().to_frame()\n",
    "themes_by_year.head(8)"
   ]
  },
  {
   "cell_type": "markdown",
   "metadata": {},
   "source": [
    "**_Have LEGO themes become more abundant over the years?_**"
   ]
  },
  {
   "cell_type": "code",
   "execution_count": 25,
   "metadata": {},
   "outputs": [
    {
     "data": {
      "image/png": "[encoded data removed]",
      "text/plain": [
       "<Figure size 720x360 with 1 Axes>"
      ]
     },
     "metadata": {
      "needs_background": "light"
     },
     "output_type": "display_data"
    }
   ],
   "source": [
    "themes_by_year.plot(legend=False)\n",
    "plt.xlim((1948, 2018))\n",
    "plt.ylim((0, 105))\n",
    "plt.xlabel('year', labelpad=10, fontsize='large')\n",
    "plt.ylabel('number of LEGO themes', labelpad=15, fontsize='large')\n",
    "plt.box(False)\n",
    "plt.show()\n",
    "plt.close()"
   ]
  },
  {
   "cell_type": "markdown",
   "metadata": {},
   "source": [
    "_Yes, they have!_ There has been a trend of **constant increase in the number of LEGO themes**!"
   ]
  },
  {
   "cell_type": "markdown",
   "metadata": {
    "dc": {
     "key": "a293e5076e"
    },
    "deletable": false,
    "editable": false,
    "run_control": {
     "frozen": true
    },
    "tags": [
     "context"
    ]
   },
   "source": [
    "## 7. Wrapping It All Up!\n",
    "<p>Lego blocks offer an unlimited amount of fun across ages. We explored some interesting trends around colors, parts, and themes. </p>"
   ]
  },
  {
   "cell_type": "code",
   "execution_count": 26,
   "metadata": {
    "dc": {
     "key": "a293e5076e"
    },
    "tags": [
     "sample_code"
    ]
   },
   "outputs": [],
   "source": [
    "# Nothing to do here"
   ]
  }
 ],
 "metadata": {
  "kernelspec": {
   "display_name": "Python 3",
   "language": "python",
   "name": "python3"
  },
  "language_info": {
   "codemirror_mode": {
    "name": "ipython",
    "version": 3
   },
   "file_extension": ".py",
   "mimetype": "text/x-python",
   "name": "python",
   "nbconvert_exporter": "python",
   "pygments_lexer": "ipython3",
   "version": "3.7.1"
  }
 },
 "nbformat": 4,
 "nbformat_minor": 2
}
