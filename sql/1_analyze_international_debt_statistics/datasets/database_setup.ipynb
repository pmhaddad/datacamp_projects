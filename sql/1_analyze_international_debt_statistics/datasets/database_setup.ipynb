{
 "cells": [
  {
   "cell_type": "code",
   "execution_count": null,
   "metadata": {},
   "outputs": [],
   "source": [
    "import os\n",
    "\n",
    "import pandas as pd\n",
    "from sqlalchemy import Column, Float, Integer, String, create_engine\n",
    "from sqlalchemy.dialects.postgresql import insert  # It also works for SQLite for this basic usage\n",
    "from sqlalchemy.ext.declarative import declarative_base\n",
    "from sqlalchemy.orm import sessionmaker\n",
    "\n",
    "# Run this notebook on the directory supposed to store the project DB\n",
    "path = os.getcwd()\n",
    "\n",
    "engine = create_engine(f'sqlite:///{path}\\\\international_debt.db', echo=True)\n",
    "Session = sessionmaker(bind=engine)\n",
    "session = Session()\n",
    "\n",
    "Base = declarative_base()\n",
    "\n",
    "\n",
    "class InternationalDebt(Base):\n",
    "\n",
    "    __tablename__ = 'international_debt'\n",
    "\n",
    "    id = Column(Integer, primary_key=True)\n",
    "    country_name = Column(String(50))\n",
    "    country_code = Column(String(50))\n",
    "    indicator_name = Column(String(256))\n",
    "    indicator_code = Column(String(256))\n",
    "    debt = Column(Float)\n",
    "\n",
    "    \n",
    "def insert_data(table, data):\n",
    "    query = insert(table).values(data)\n",
    "\n",
    "    session.execute(query)\n",
    "    session.commit()\n",
    "    session.close()\n",
    "\n",
    "Base.metadata.create_all(engine)\n",
    "\n",
    "raw_data = pd.read_csv('international_debt.csv')\n",
    "data_as_dict = raw_data.to_dict('records')\n",
    "\n",
    "insert_data(InternationalDebt, data_as_dict)"
   ]
  }
 ],
 "metadata": {
  "kernelspec": {
   "display_name": "Python 3",
   "language": "python",
   "name": "python3"
  },
  "language_info": {
   "codemirror_mode": {
    "name": "ipython",
    "version": 3
   },
   "file_extension": ".py",
   "mimetype": "text/x-python",
   "name": "python",
   "nbconvert_exporter": "python",
   "pygments_lexer": "ipython3",
   "version": "3.7.3"
  }
 },
 "nbformat": 4,
 "nbformat_minor": 2
}
